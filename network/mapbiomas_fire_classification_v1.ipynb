{
  "nbformat": 4,
  "nbformat_minor": 0,
  "metadata": {
    "colab": {
      "provenance": []
    },
    "kernelspec": {
      "name": "python3",
      "display_name": "Python 3"
    },
    "language_info": {
      "name": "python"
    }
  },
  "cells": [
    {
      "cell_type": "markdown",
      "source": [
        "# MapBiomas Fire Classification Algorithms"
      ],
      "metadata": {
        "id": "rLM2u--hzrAw"
      }
    },
    {
      "cell_type": "markdown",
      "source": [
        "### 1: Clone the official MapBiomas Fire Network GitHub repository to the temporary disk of Google Colab\n"
      ],
      "metadata": {
        "id": "EnFJxwYGzxf8"
      }
    },
    {
      "cell_type": "code",
      "source": [
        "### Step A_0_0 - Clone the official MapBiomas Fire Network GitHub repository to the temporary disk of Google Colab\n",
        "!git clone https://github.com/mapbiomas/brazil-fire\n"
      ],
      "metadata": {
        "id": "4KSKx8qgmf8f",
        "colab": {
          "base_uri": "https://localhost:8080/"
        },
        "outputId": "26a6b091-db7b-4078-e4f4-0602396a4d60"
      },
      "execution_count": 1,
      "outputs": [
        {
          "output_type": "stream",
          "name": "stdout",
          "text": [
            "Cloning into 'brazil-fire'...\n",
            "remote: Enumerating objects: 893, done.\u001b[K\n",
            "remote: Counting objects: 100% (348/348), done.\u001b[K\n",
            "remote: Compressing objects: 100% (230/230), done.\u001b[K\n",
            "remote: Total 893 (delta 262), reused 118 (delta 118), pack-reused 545 (from 1)\u001b[K\n",
            "Receiving objects: 100% (893/893), 11.25 MiB | 10.38 MiB/s, done.\n",
            "Resolving deltas: 100% (482/482), done.\n"
          ]
        }
      ]
    },
    {
      "cell_type": "markdown",
      "source": [
        "### 2: Google Cloud Authentication and parameterization"
      ],
      "metadata": {
        "id": "xZ3T6Ntpz7Q-"
      }
    },
    {
      "cell_type": "code",
      "source": [
        "### Step A_0_1 - Basic parameterizarion and Google Autehenticates to using this interfaces\n",
        "### Step A_0_2 - Algorithm for logging interface monitoring records in a JSON file on Google Cloud.\n",
        "\n",
        "# A_0_1 - Basic parameterizarion and Google Autehenticates to using this interfaces\n",
        "# Specify the country for processing. Available options: ['bolivia', 'colombia', 'chile', 'peru', 'paraguay', 'guyana']\n",
        "country = 'guyana'  # Set the country from the available options\n",
        "# Define a name for the collection to generate log messages (can be customized for different logs)\n",
        "collection_name = 'collection_1'\n",
        "# Specify the name of the institution or institutions that performed the classification for this collection\n",
        "source_name = 'MapBiomas-Fuego'\n",
        "# Set a specific timezone if needed, e.g., 'America/Sao_Paulo' - automatic choice in None case\n",
        "specified_timezone = None\n",
        "# --- --- --- --- # These code should be fixed\n",
        "def authenticates(ee_project,bucketName):\n",
        "    import ee\n",
        "    ee.Authenticate()\n",
        "    ee.Initialize(project=ee_project)\n",
        "\n",
        "    # Authenticate with Google Cloud (necessary when using Colab)\n",
        "    from google.colab import auth\n",
        "    auth.authenticate_user()\n",
        "\n",
        "    # Initialize Google Cloud Storage client and define the bucket name\n",
        "    from google.cloud import storage\n",
        "    client = storage.Client()\n",
        "    bucket = client.get_bucket(bucketName)\n",
        "\n",
        "# Import and authenticate libraries for Google cloud services\n",
        "ee_project = f'mapbiomas-{country}'  # Set the project name based on the selected country\n",
        "bucket_name = 'mapbiomas-fire'\n",
        "\n",
        "# Call the authentication function with the correct project and bucket names\n",
        "authenticates(ee_project, bucket_name)\n",
        "\n",
        "# Define the path to the classification algorithms scripts\n",
        "algorithms = f'/content/brazil-fire/network/classification_algorithms'\n",
        "\n",
        "# A_0_2 Algorithm for logging interface monitoring records in a JSON file on Google Cloud.\n",
        "exec(open(f'{algorithms}/A_0_2_log_algorithm_monitor.py').read())"
      ],
      "metadata": {
        "id": "c-tHb_KRBvCt"
      },
      "execution_count": null,
      "outputs": []
    },
    {
      "cell_type": "markdown",
      "source": [
        "### Optional steps"
      ],
      "metadata": {
        "id": "MEUoUPcQryLq"
      }
    },
    {
      "cell_type": "markdown",
      "source": [
        "#### *Visualize files in the folders of the Google Cloud Storage bucket*\n",
        "  \n"
      ],
      "metadata": {
        "id": "z4nceoK50BHl"
      }
    },
    {
      "cell_type": "code",
      "source": [
        "### OPTIONAL STEP\n",
        "# A_0_3 Optional step to visualize files in the folders of the Google Cloud Storage bucket\n",
        "# This executes a simple interface for exploring files in the bucket\n",
        "exec(open(f'{algorithms}/A_0_3_simple_gui_to_gcs_explorer_optional.py').read())\n"
      ],
      "metadata": {
        "id": "LgB5RlRFD7ic"
      },
      "execution_count": null,
      "outputs": []
    },
    {
      "cell_type": "markdown",
      "source": [
        "#### *Presenting PDFs as slides in Google Colab*"
      ],
      "metadata": {
        "id": "GhU-qIAwWg5s"
      }
    },
    {
      "cell_type": "code",
      "source": [
        "### OPTIONAL Step plus - Optinal presenting PDFs as slides in Google Colab\n",
        "# Presenting PDFs as slides in Google Colab\n",
        "exec(open(f'/content/brazil-fire/utils/google_collab_pdf_show.py').read())\n",
        "pdf_path = '/content/brazil-fire/network/entrenamiento_de_monitoreo_de_cicatrices_de_fuego_en_regiones_de_la_red_mapBiomas.pdf'\n",
        "display_pdf_viewer(pdf_path, external_link=\"https://docs.google.com/presentation/d/1MPoqHWHLw-jJqKUStikJ0Cc-8oLuMuKZ4_c_kQA3DKQ\")\n"
      ],
      "metadata": {
        "id": "ocrFR2QqWNcg"
      },
      "execution_count": null,
      "outputs": []
    },
    {
      "cell_type": "markdown",
      "source": [
        "#### *Share acess toolkt in GEE toolkit interface to collect samples and avaliable results*"
      ],
      "metadata": {
        "id": "h3_02WNIVxjo"
      }
    },
    {
      "cell_type": "code",
      "source": [
        "### Step A_1_0 - Simple script for share acess toolkt in Google Earth Engine toolkit interface to collect samples and avaliable results\n",
        "exec(open(f'{algorithms}/A_1_0_gee_gui_collect_samples_burned_area_classification.py').read())"
      ],
      "metadata": {
        "id": "gLfLweBQNSAx"
      },
      "execution_count": null,
      "outputs": []
    },
    {
      "cell_type": "markdown",
      "source": [
        "### 3: Training the fire model"
      ],
      "metadata": {
        "id": "bEceQ5uTJy-H"
      }
    },
    {
      "cell_type": "code",
      "source": [
        "# Interface for visualizing the available samples for the selected country\n",
        "# Select the version and region for training the model\n",
        "\n",
        "# Step A_2_0 - Simple graphic user interface for the routine of training TensorFlow models\n",
        "exec(open(f'{algorithms}/A_2_0_simple_gui_train_tensorflow_models.py').read())\n",
        "### Step A_2_1 - Functions for training TensorFlow models per region\n",
        "exec(open(f'{algorithms}/A_2_1_training_tensorflow_model_per_region.py').read())\n"
      ],
      "metadata": {
        "id": "Wtrc1QRQM2P7"
      },
      "execution_count": null,
      "outputs": []
    },
    {
      "cell_type": "markdown",
      "source": [
        "### 4: Burned area classification, using already trained models\n"
      ],
      "metadata": {
        "id": "T9bDteweN0T_"
      }
    },
    {
      "cell_type": "code",
      "source": [
        "### Simple graphic user interface for burned area classification, using already trained models\n",
        "# Step A_3_0 - Simple graphic user interface for selecting years for burned area classification\n",
        "exec(open(f'{algorithms}/A_3_0_simple_gui_train_tensorflow_classification.py').read())\n",
        "\n",
        "# Step A_3_1 - Functions for TensorFlow classification of burned areas\n",
        "exec(open(f'{algorithms}/A_3_1_tensorflow_classification_burned_area.py').read())\n"
      ],
      "metadata": {
        "id": "1Rb2uxNEr2ge",
        "collapsed": true
      },
      "execution_count": null,
      "outputs": []
    },
    {
      "cell_type": "markdown",
      "source": [
        "### 4: Plotting already classified data from the country\n"
      ],
      "metadata": {
        "id": "3FYCOkYdu7br"
      }
    },
    {
      "cell_type": "code",
      "source": [
        "# last_update: '2024/10/30', github:'mapbiomas/brazil-fire', source: 'IPAM', contact: 'contato@mapbiomas.org'\n",
        "# MapBiomas Fire Classification Algorithms Step A_4_1_plot_fire_regions.py\n",
        "### Step A_4_0 - Functions for Plotting Fire Regions\n",
        "\n",
        "# Configurações iniciais e metadados\n",
        "# Última atualização: '2024/10/30', github:'mapbiomas/brazil-fire', fonte: 'IPAM', contato: 'contato@mapbiomas.org'\n",
        "\n",
        "import ee\n",
        "import geemap\n",
        "\n",
        "# Inicialize a API do Google Earth Engine\n",
        "ee.Initialize()\n",
        "\n",
        "def plot_fire_regions(country, version):\n",
        "    \"\"\"\n",
        "    Plota a grade das regiões de fogo para um país específico no Google Earth Engine.\n",
        "\n",
        "    Parâmetros:\n",
        "    - country: Código ou nome do país (string).\n",
        "    - version: Versão dos dados (string).\n",
        "    \"\"\"\n",
        "    # Define o caminho para as regiões de fogo\n",
        "    regiones_path = f'projects/mapbiomas-{country}/assets/FIRE/AUXILIARY_DATA/regiones_fuego_{country}_{version}'\n",
        "    collection_path = 'projects/mapbiomas-mosaics/assets/LANDSAT/FIRE/mosaics-1'\n",
        "\n",
        "    # Carrega a coleção de regiões de fogo\n",
        "    regiones_fc = ee.FeatureCollection(regiones_path)\n",
        "\n",
        "    # Cria o mapa interativo\n",
        "    Map = geemap.Map(center=[0, 0], zoom=2)\n",
        "\n",
        "    # Adiciona camada das regiões ao mapa com uma cor base\n",
        "    Map.addLayer(ee.Image().paint(regiones_fc, 'id_region').randomVisualizer(), {}, 'Região', False)\n",
        "    Map.addLayer(ee.Image().paint(regiones_fc, 'a', 1), {}, 'Região Contorno', False)\n",
        "\n",
        "    # Coleção de imagens de áreas queimadas\n",
        "    fire_path = f'projects/mapbiomas-{country}/assets/FIRE/COLLECTION1/CLASSIFICATION/burned_area_{country}_{version}'\n",
        "    fire = ee.ImageCollection(fire_path)\n",
        "\n",
        "    # Define uma paleta de cores para as camadas de fogo\n",
        "    colors = [\n",
        "        'red', 'blue', 'green', 'yellow', 'purple', 'orange',\n",
        "        'cyan', 'magenta', 'lime', 'pink', 'teal', 'lavender',\n",
        "        'brown', 'beige', 'maroon'\n",
        "    ]\n",
        "\n",
        "    # Adiciona camadas filtradas de fogo por ano\n",
        "    def add_fire_layers(years):\n",
        "        for i, year in enumerate(years):\n",
        "            color = colors[i % len(colors)]  # Alterna as cores se houver mais anos do que cores\n",
        "\n",
        "            # Filtra e adiciona o mosaico por ano\n",
        "            filtered_mosaic = ee.ImageCollection(collection_path).filter(ee.Filter.eq('year', year))\n",
        "            Map.addLayer(\n",
        "                filtered_mosaic,\n",
        "                {'bands': ['swir1', 'nir', 'red'], 'min': 3, 'max': 40},\n",
        "                f'Mosaico minNBR {year}',\n",
        "                False\n",
        "            )\n",
        "\n",
        "            # Filtra e adiciona o incêndio por ano com a cor definida\n",
        "            filtered_fire = fire.filter(ee.Filter.eq('year', year))\n",
        "            Map.addLayer(\n",
        "                filtered_fire,\n",
        "                {'palette': [color]},\n",
        "                f'Fogo - {year} ({color})'\n",
        "            )\n",
        "\n",
        "    # Obtém os anos distintos na coleção e aplica a função de adicionar camadas\n",
        "    fire.aggregate_array('year').distinct().sort().reverse().evaluate(add_fire_layers)\n",
        "\n",
        "    # Exibe o mapa\n",
        "    return Map\n",
        "\n",
        "# Chama a função para plotar regiões de fogo\n",
        "# country = 'guyana'  # Substitua pelo código do país desejado\n",
        "# version = 'v1'\n",
        "mapa = plot_fire_regions(country, version)\n",
        "mapa\n"
      ],
      "metadata": {
        "id": "SMlXQg2vr7Vc"
      },
      "execution_count": null,
      "outputs": []
    },
    {
      "cell_type": "code",
      "source": [
        "# processing_subproducts"
      ],
      "metadata": {
        "id": "_WZx_m7WsGoJ"
      },
      "execution_count": null,
      "outputs": []
    },
    {
      "cell_type": "code",
      "source": [],
      "metadata": {
        "id": "dXUF-CC-gSfg"
      },
      "execution_count": null,
      "outputs": []
    }
  ]
}